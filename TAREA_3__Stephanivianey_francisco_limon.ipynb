{
  "nbformat": 4,
  "nbformat_minor": 0,
  "metadata": {
    "colab": {
      "provenance": [],
      "authorship_tag": "ABX9TyN6wy8/SzlJPJN3CjZLFo24",
      "include_colab_link": true
    },
    "kernelspec": {
      "name": "python3",
      "display_name": "Python 3"
    },
    "language_info": {
      "name": "python"
    }
  },
  "cells": [
    {
      "cell_type": "markdown",
      "metadata": {
        "id": "view-in-github",
        "colab_type": "text"
      },
      "source": [
        "<a href=\"https://colab.research.google.com/github/Limonsitox/StephaniF-SSF-oto24-Stehani-Vianey-Francisco-Limon/blob/main/TAREA_3__Stephanivianey_francisco_limon.ipynb\" target=\"_parent\"><img src=\"https://colab.research.google.com/assets/colab-badge.svg\" alt=\"Open In Colab\"/></a>"
      ]
    },
    {
      "cell_type": "markdown",
      "source": [
        "a) Ejercicio A.2 - Diferenciación Numérica"
      ],
      "metadata": {
        "id": "h7SIAZ10X-6H"
      }
    },
    {
      "cell_type": "code",
      "source": [
        "import numpy as np\n",
        "\n",
        "def central_difference(f, x, h=1e-5):\n",
        "    return (f(x + h) - f(x - h)) / (2 * h)\n",
        "\n",
        "# Ejemplo de uso:\n",
        "f = lambda x: np.sin(x)  # Función a diferenciar\n",
        "x = np.pi / 4            # Punto donde calcular la derivada\n",
        "print(\"Derivada en x =\", x, \"es aproximadamente:\", central_difference(f, x))\n"
      ],
      "metadata": {
        "id": "1zxq8noeYCE_",
        "colab": {
          "base_uri": "https://localhost:8080/"
        },
        "outputId": "a01586d0-6a48-400e-a716-fcbc5c5c676a"
      },
      "execution_count": null,
      "outputs": [
        {
          "output_type": "stream",
          "name": "stdout",
          "text": [
            "Derivada en x = 0.7853981633974483 es aproximadamente: 0.7071067811725839\n"
          ]
        }
      ]
    },
    {
      "cell_type": "markdown",
      "source": [
        "b) Ejercicio A.3 - Integración como Suma"
      ],
      "metadata": {
        "id": "JUD-_PFFYQpf"
      }
    },
    {
      "cell_type": "code",
      "source": [
        "def trapezoidal_rule(f, a, b, n):\n",
        "    h = (b - a) / n\n",
        "    I = 0.5 * (f(a) + f(b))\n",
        "    for k in range(1, n):\n",
        "        I += f(a + k * h)\n",
        "    return I * h\n",
        "\n",
        "# Ejemplo de uso:\n",
        "f = lambda x: np.sin(x)\n",
        "a = 0\n",
        "b = np.pi\n",
        "n = 100  # Número de subdivisiones\n",
        "print(\"Aproximación de la integral:\", trapezoidal_rule(f, a, b, n))\n"
      ],
      "metadata": {
        "colab": {
          "base_uri": "https://localhost:8080/"
        },
        "id": "G-fqQniTYRjy",
        "outputId": "953c3ed1-1137-498f-d9f6-80b92776d4c7"
      },
      "execution_count": null,
      "outputs": [
        {
          "output_type": "stream",
          "name": "stdout",
          "text": [
            "Aproximación de la integral: 1.9998355038874436\n"
          ]
        }
      ]
    },
    {
      "cell_type": "markdown",
      "source": [
        "c) Ejercicio A.4 - Integración con Cuadratura de Gauss-Legendre en lugar de Trapecio"
      ],
      "metadata": {
        "id": "DJNX6KUzYUW7"
      }
    },
    {
      "cell_type": "code",
      "source": [
        "from numpy.polynomial.legendre import leggauss\n",
        "\n",
        "def gauss_legendre_integration(f, a, b, n):\n",
        "    [x, w] = leggauss(n)\n",
        "    # Cambio de intervalo de [-1, 1] a [a, b]\n",
        "    integral = 0.5 * (b - a) * sum(w * f(0.5 * (b - a) * x + 0.5 * (b + a)))\n",
        "    return integral\n",
        "\n",
        "# Ejemplo de uso:\n",
        "f = lambda x: np.sin(x)\n",
        "a = 0\n",
        "b = np.pi\n",
        "n = 5  # Número de puntos de Gauss-Legendre\n",
        "print(\"Aproximación de la integral con Gauss-Legendre:\", gauss_legendre_integration(f, a, b, n))\n"
      ],
      "metadata": {
        "colab": {
          "base_uri": "https://localhost:8080/"
        },
        "id": "d_LdDw8eYZmU",
        "outputId": "be162821-a8d9-45be-b213-d41b0195bcf9"
      },
      "execution_count": null,
      "outputs": [
        {
          "output_type": "stream",
          "name": "stdout",
          "text": [
            "Aproximación de la integral con Gauss-Legendre: 2.0000001102844718\n"
          ]
        }
      ]
    },
    {
      "cell_type": "markdown",
      "source": [
        "d) Ejercicio A.6 - Diferenciación utilizando Cuadratura de Gauss-Legendre"
      ],
      "metadata": {
        "id": "6W4lvFuCYnu1"
      }
    },
    {
      "cell_type": "code",
      "source": [
        "from numpy.polynomial.legendre import leggauss\n",
        "\n",
        "def gauss_legendre_integration(f, a, b, n):\n",
        "    \"\"\"\n",
        "    Realiza la integración de una función f en el intervalo [a, b]\n",
        "    usando la cuadratura de Gauss-Legendre con n puntos.\n",
        "    \"\"\"\n",
        "    # Obtén los puntos y pesos de Gauss-Legendre en el intervalo [-1, 1]\n",
        "    puntos, pesos = leggauss(n)\n",
        "\n",
        "    # Transforma los puntos y pesos al intervalo [a, b]\n",
        "    puntos_transformados = 0.5 * (b - a) * puntos + 0.5 * (b + a)\n",
        "    pesos_transformados = 0.5 * (b - a) * pesos\n",
        "\n",
        "    # Calcula la integral sumando los valores de f en los puntos transformados, ponderados por los pesos\n",
        "    integral = sum(pesos_transformados * f(puntos_transformados))\n",
        "    return integral\n",
        "\n",
        "# Ejemplo de uso:\n",
        "f = lambda x: x**2  # Ejemplo de función a integrar\n",
        "a = 0               # Límite inferior de integración\n",
        "b = 1               # Límite superior de integración\n",
        "n = 4               # Número de puntos de Gauss-Legendre\n",
        "\n",
        "resultado = gauss_legendre_integration(f, a, b, n)\n",
        "print(\"Aproximación de la integral usando Gauss-Legendre:\", resultado)\n"
      ],
      "metadata": {
        "colab": {
          "base_uri": "https://localhost:8080/"
        },
        "id": "d_LudXwGYpoE",
        "outputId": "a7664578-fc73-4049-d6a0-b47c5cbaffab"
      },
      "execution_count": null,
      "outputs": [
        {
          "output_type": "stream",
          "name": "stdout",
          "text": [
            "Aproximación de la integral usando Gauss-Legendre: 0.33333333333333326\n"
          ]
        }
      ]
    },
    {
      "cell_type": "markdown",
      "source": [
        "e) Ejercicio A.4 con scipy"
      ],
      "metadata": {
        "id": "Jf4T6_MKYt9O"
      }
    },
    {
      "cell_type": "code",
      "source": [
        "from scipy.integrate import quad\n",
        "\n",
        "f = lambda x: np.sin(x)\n",
        "a = 0\n",
        "b = np.pi\n",
        "\n",
        "resultado, error = quad(f, a, b)\n",
        "print(\"Aproximación de la integral con scipy:\", resultado)\n"
      ],
      "metadata": {
        "colab": {
          "base_uri": "https://localhost:8080/"
        },
        "id": "V4ZH4CXaYyE5",
        "outputId": "318d34fe-f93c-483d-f2a3-88d93f821521"
      },
      "execution_count": null,
      "outputs": [
        {
          "output_type": "stream",
          "name": "stdout",
          "text": [
            "Aproximación de la integral con scipy: 2.0\n"
          ]
        }
      ]
    }
  ]
}