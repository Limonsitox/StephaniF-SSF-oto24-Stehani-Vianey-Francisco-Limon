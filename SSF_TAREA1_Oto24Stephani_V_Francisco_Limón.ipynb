{
  "nbformat": 4,
  "nbformat_minor": 0,
  "metadata": {
    "colab": {
      "provenance": [],
      "authorship_tag": "ABX9TyPpxwJLI6P6mQelkmJiK1O0",
      "include_colab_link": true
    },
    "kernelspec": {
      "name": "python3",
      "display_name": "Python 3"
    },
    "language_info": {
      "name": "python"
    }
  },
  "cells": [
    {
      "cell_type": "markdown",
      "metadata": {
        "id": "view-in-github",
        "colab_type": "text"
      },
      "source": [
        "<a href=\"https://colab.research.google.com/github/Limonsitox/StephaniF-SSF-oto24-Stehani-Vianey-Francisco-Limon/blob/main/SSF_TAREA1_Oto24Stephani_V_Francisco_Lim%C3%B3n.ipynb\" target=\"_parent\"><img src=\"https://colab.research.google.com/assets/colab-badge.svg\" alt=\"Open In Colab\"/></a>"
      ]
    },
    {
      "cell_type": "markdown",
      "source": [
        "a)\n",
        "\n",
        "Vamos a implementar el método de Horner y las variantes mencionadas. El método de Horner es una técnica eficiente para evaluar polinomios de la forma:\n",
        "\n",
        "P(x)=anxn+an−1xn−1+⋯+a1x+a0\n",
        "\n",
        "La implementación del método de Horner se realiza reescribiendo el polinomio de manera que se evalúe en forma anidada:\n",
        "\n",
        "P(x)=((…(an⋅x+an−1)⋅x+an−2)⋅x+⋯+a1)⋅x+a0\n",
        "\n",
        "Implementación básica del método de Horner en Python\n",
        "\n",
        "Voy a comenzar con una implementación básica del método de Horner y luego añadiré las variantes según lo solicitado.\n"
      ],
      "metadata": {
        "id": "bas6ZbHwb8Vd"
      }
    },
    {
      "cell_type": "code",
      "source": [
        "def horner(coef, x):\n",
        "    result = coef[0]\n",
        "    for i in range(1, len(coef)):\n",
        "        result = result * x + coef[i]\n",
        "    return result"
      ],
      "metadata": {
        "id": "-TaeR-OjdN0e"
      },
      "execution_count": null,
      "outputs": []
    },
    {
      "cell_type": "markdown",
      "source": [
        "Ejemplos\n",
        "\n",
        ">1.- Polinomio: P(x)=2x3−6x2+2x−1\n",
        "\n",
        "•\tCoeficientes: [2, -6, 2, -1]\n",
        "\n",
        "•\tValor de x: 3\n",
        "\n",
        "\n",
        "\n",
        "\n",
        ">2.-  Polinomio: P(x)=x4+3x3−5x2+2x−7\n",
        "\n",
        "•\tCoeficientes: [1, 3, -5, 2, -7]\n",
        "\n",
        "•\tValor de x: 2\n",
        "\n",
        "\n",
        "\n",
        "\n",
        "\n"
      ],
      "metadata": {
        "id": "LYWAzfeHdUMe"
      }
    },
    {
      "cell_type": "code",
      "source": [
        "# Implementación básica del método de Horner\n",
        "def horner(coef, x):\n",
        "    result = coef[0]\n",
        "    for i in range(1, len(coef)):\n",
        "        result = result * x + coef[i]\n",
        "    return result\n",
        "\n",
        "# Ejemplos\n",
        "polinomio1 = [2, -6, 2, -1]\n",
        "polinomio2 = [1, 3, -5, 2, -7]\n",
        "\n",
        "x1 = 3\n",
        "x2 = 2\n",
        "\n",
        "resultado1 = horner(polinomio1, x1)\n",
        "resultado2 = horner(polinomio2, x2)\n",
        "\n",
        "print(f\"El resultado del polinomio 1 evaluado en x = {x1} es: {resultado1}\")\n",
        "print(f\"El resultado del polinomio 2 evaluado en x = {x2} es: {resultado2}\")\n"
      ],
      "metadata": {
        "colab": {
          "base_uri": "https://localhost:8080/"
        },
        "id": "lvCQL-qkeYPU",
        "outputId": "8f1411e9-eb10-40a1-dc32-ea9b15877034"
      },
      "execution_count": null,
      "outputs": [
        {
          "output_type": "stream",
          "name": "stdout",
          "text": [
            "El resultado del polinomio 1 evaluado en x = 3 es: 5\n",
            "El resultado del polinomio 2 evaluado en x = 2 es: 17\n"
          ]
        }
      ]
    },
    {
      "cell_type": "markdown",
      "source": [
        "Variante 1: Implementación recursiva"
      ],
      "metadata": {
        "id": "ghguKrXAebku"
      }
    },
    {
      "cell_type": "code",
      "source": [
        "def horner_recursive(coef, x, n=None):\n",
        "    if n is None:\n",
        "        n = len(coef) - 1\n",
        "    if n == 0:\n",
        "        return coef[0]\n",
        "    return coef[n] + x * horner_recursive(coef, x, n-1)\n"
      ],
      "metadata": {
        "id": "y71lhW77e57Y"
      },
      "execution_count": null,
      "outputs": []
    },
    {
      "cell_type": "markdown",
      "source": [
        "Ejemplo\n",
        "\n",
        "Consideremos el polinomio:\n",
        "\n",
        "P(x)=4x3+3x2−2x+5\n",
        "\n",
        "Con los coeficientes en orden decreciente de grado, tenemos:\n",
        "\n",
        "•\tCoeficientes: [4,3,−2,5]\n",
        "\n",
        "•\tVamos a evaluar este polinomio en x=2x\n",
        "\n",
        "•\tutilizando la implementación recursiva.\n",
        "\n",
        "evaluación del polinomio P(x)=4x3+3x2−2x+5 en x=2x\n"
      ],
      "metadata": {
        "id": "BiSK3x8PgJ4e"
      }
    },
    {
      "cell_type": "code",
      "source": [
        "# Variante recursiva del método de Horner\n",
        "def horner_recursive(coef, x, n=None):\n",
        "    if n is None:\n",
        "        n = len(coef) - 1  # Inicia con el mayor grado (n = len(coef) - 1)\n",
        "    if n == 0:  # Caso base: cuando llegamos al término constante\n",
        "        return coef[0]\n",
        "    return coef[n] + x * horner_recursive(coef, x, n-1)\n",
        "\n",
        "# Ejemplo: Polinomio P(x) = 4x^3 + 3x^2 - 2x + 5\n",
        "coeficientes = [4, 3, -2, 5]\n",
        "x_val = 2\n",
        "\n",
        "# Evaluar el polinomio en x = 2 usando la variante recursiva\n",
        "resultado = horner_recursive(coeficientes, x_val)\n",
        "print(f\"El resultado de P({x_val}) es: {resultado}\")\n"
      ],
      "metadata": {
        "colab": {
          "base_uri": "https://localhost:8080/"
        },
        "id": "1fYdddukhDQU",
        "outputId": "6aff09cc-6f4f-4985-cbca-c648e53c7f5f"
      },
      "execution_count": null,
      "outputs": [
        {
          "output_type": "stream",
          "name": "stdout",
          "text": [
            "El resultado de P(2) es: 45\n"
          ]
        }
      ]
    },
    {
      "cell_type": "markdown",
      "source": [
        "Variante 2: Evaluación del polinomio y su derivada\n"
      ],
      "metadata": {
        "id": "toPjW2QIe-62"
      }
    },
    {
      "cell_type": "code",
      "source": [
        "def horner_derivative(coef, x):\n",
        "    n = len(coef) - 1\n",
        "    poly_val = coef[0]\n",
        "    deriv_val = 0\n",
        "    for i in range(1, len(coef)):\n",
        "        deriv_val = deriv_val * x + poly_val\n",
        "        poly_val = poly_val * x + coef[i]\n",
        "    deriv_val *= n\n",
        "    return poly_val, deriv_val\n"
      ],
      "metadata": {
        "id": "-gXrX9WXfDbr"
      },
      "execution_count": null,
      "outputs": []
    },
    {
      "cell_type": "markdown",
      "source": [
        "Ejemplo\n",
        "\n",
        "Consideremos el polinomio:\n",
        "\n",
        "P(x)=3x4−5x3+2x2−7x+4\n",
        "\n",
        "Sus coeficientes en orden decreciente de grado son:\n",
        "\n",
        "•\tCoeficientes: [3,−5,2,−7,4]\n",
        "\n",
        "Vamos a evaluar el polinomio y su derivada en x=1x\n",
        "\n"
      ],
      "metadata": {
        "id": "aAs1LI7JiK5F"
      }
    },
    {
      "cell_type": "code",
      "source": [
        "# Variante que evalúa el polinomio y su derivada al mismo tiempo\n",
        "def horner_derivative(coef, x):\n",
        "    n = len(coef) - 1\n",
        "    poly_val = coef[0]\n",
        "    deriv_val = 0\n",
        "    for i in range(1, len(coef)):\n",
        "        deriv_val = deriv_val * x + poly_val\n",
        "        poly_val = poly_val * x + coef[i]\n",
        "    deriv_val *= n\n",
        "    return poly_val, deriv_val\n",
        "\n",
        "# Ejemplo: Polinomio P(x) = 3x^4 - 5x^3 + 2x^2 - 7x + 4\n",
        "coeficientes = [3, -5, 2, -7, 4]\n",
        "x_val = 1\n",
        "\n",
        "# Evaluar el polinomio y su derivada en x = 1 usando la variante con derivada\n",
        "resultado_pol, resultado_deriv = horner_derivative(coeficientes, x_val)\n",
        "print(f\"El valor de P({x_val}) es: {resultado_pol}\")\n",
        "print(f\"El valor de P'({x_val}) es: {resultado_deriv}\")\n"
      ],
      "metadata": {
        "colab": {
          "base_uri": "https://localhost:8080/"
        },
        "id": "jS2uT0bXiu7U",
        "outputId": "8d0924f8-870a-4abb-fcde-ad2c8e13b413"
      },
      "execution_count": null,
      "outputs": [
        {
          "output_type": "stream",
          "name": "stdout",
          "text": [
            "El valor de P(1) es: -3\n",
            "El valor de P'(1) es: -24\n"
          ]
        }
      ]
    },
    {
      "cell_type": "markdown",
      "source": [
        "b)\n",
        "\n",
        "Evaluación de cos(x)\n",
        "\n",
        "La serie de Taylor para cos(x) alrededor de x=0 es:\n",
        "\n",
        "\n",
        "![image.png](data:image/png;base64,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)"
      ],
      "metadata": {
        "id": "D9Twza0WjCSH"
      }
    },
    {
      "cell_type": "code",
      "source": [
        "import math\n",
        "\n",
        "def cos_taylor_direct(x, tol=1e-4):\n",
        "    n = 0\n",
        "    term = 1  # Primer término de la serie\n",
        "    suma = term\n",
        "    while abs(term) > tol:\n",
        "        n += 1\n",
        "        term = (-1)**n * (x**(2*n)) / math.factorial(2*n)\n",
        "        suma += term\n",
        "    return suma, n\n"
      ],
      "metadata": {
        "id": "nJENep0wPOrm"
      },
      "execution_count": null,
      "outputs": []
    },
    {
      "cell_type": "markdown",
      "source": [
        "Voy a implementar los códigos necesarios para la Parte b, donde se evaluará cos(x) utilizando dos métodos: el cálculo directo de la serie de Taylor y la computación parcial, y luego se compararán los resultados.\n",
        "\n",
        "Método i: Cálculo Directo de la Serie\n",
        "\n",
        "implementamos la función cos_taylor_direct que calcula el valor de cos(x) sumando los términos de la serie de Taylor hasta que la diferencia entre términos sucesivos sea menor que una tolerancia dada.\n",
        "\n",
        "\n"
      ],
      "metadata": {
        "id": "vMiNsyd0PnMs"
      }
    },
    {
      "cell_type": "code",
      "source": [
        "import math\n",
        "\n",
        "def cos_taylor_direct(x, tol=1e-4):\n",
        "    n = 0\n",
        "    term = 1  # Primer término de la serie\n",
        "    suma = term\n",
        "    while abs(term) > tol:\n",
        "        n += 1\n",
        "        term = (-1)**n * (x**(2*n)) / math.factorial(2*n)\n",
        "        suma += term\n",
        "    return suma, n\n"
      ],
      "metadata": {
        "id": "_B_859vQP8QG"
      },
      "execution_count": null,
      "outputs": []
    },
    {
      "cell_type": "markdown",
      "source": [
        "Método ii: Computación Parcial\n",
        "\n",
        "La función cos_taylor_partial también calcula el valor de cos(x), pero optimiza el cálculo reutilizando los resultados de los términos anteriores para mejorar la eficiencia."
      ],
      "metadata": {
        "id": "plKyGU20P_Nc"
      }
    },
    {
      "cell_type": "code",
      "source": [
        "def cos_taylor_partial(x, tol=1e-4):\n",
        "    n = 0\n",
        "    term = 1  # Primer término de la serie\n",
        "    suma = term\n",
        "    while abs(term) > tol:\n",
        "        n += 1\n",
        "        term *= -x**2 / ((2*n) * (2*n - 1))  # Utiliza el término anterior para calcular el siguiente\n",
        "        suma += term\n",
        "    return suma, n\n"
      ],
      "metadata": {
        "id": "GoR7Cu_-QR7q"
      },
      "execution_count": null,
      "outputs": []
    },
    {
      "cell_type": "markdown",
      "source": [
        "Comparación de Convergencia\n",
        "\n",
        "Vamos a evaluar cos(x) para diferentes valores de x utilizando ambos métodos y comparando los resultados. Aquí también calcularemos el error relativo comparando con el valor real de cos(x) obtenido con math.cos(x)."
      ],
      "metadata": {
        "id": "Vojcb9WdQW2W"
      }
    },
    {
      "cell_type": "code",
      "source": [
        "# Valores de x a evaluar\n",
        "x_values = [0.5, 100]\n",
        "tolerances = [1e-4, 1e-8]\n",
        "\n",
        "# Tabla de resultados\n",
        "print(f\"{'x':>5} {'Método':>10} {'Iteraciones':>12} {'Aproximación':>15} {'Error Relativo':>15}\")\n",
        "for x in x_values:\n",
        "    for tol in tolerances:\n",
        "        cos_direct, n_direct = cos_taylor_direct(x, tol)\n",
        "        cos_partial, n_partial = cos_taylor_partial(x, tol)\n",
        "        cos_real = math.cos(x)\n",
        "\n",
        "        error_direct = abs((cos_direct - cos_real) / cos_real)\n",
        "        error_partial = abs((cos_partial - cos_real) / cos_real)\n",
        "        print(f\"{x:>5} {'Directo':>10} {n_direct:>12} {cos_direct:>15.10f} {error_direct:>15.10f}\")\n",
        "        print(f\"{x:>5} {'Parcial':>10} {n_partial:>12} {cos_partial:>15.10f} {error_partial:>15.10f}\")\n"
      ],
      "metadata": {
        "colab": {
          "base_uri": "https://localhost:8080/"
        },
        "id": "fxZNdSXoQmsZ",
        "outputId": "1802d251-c356-4c3b-eccb-5a7598d001ed"
      },
      "execution_count": null,
      "outputs": [
        {
          "output_type": "stream",
          "name": "stdout",
          "text": [
            "    x     Método  Iteraciones    Aproximación  Error Relativo\n",
            "  0.5    Directo            3    0.8775824653    0.0000001101\n",
            "  0.5    Parcial            3    0.8775824653    0.0000001101\n",
            "  0.5    Directo            5    0.8775825619    0.0000000000\n",
            "  0.5    Parcial            5    0.8775825619    0.0000000000\n",
            "  100    Directo          139 -40232524195277553455333376.0000000000 46656202813401163781636096.0000000000\n",
            "  100    Parcial          139 -119404595179383281007198208.0000000000 138469189318110995233636352.0000000000\n",
            "  100    Directo          144 -40232524195277553455333376.0000000000 46656202813401163781636096.0000000000\n",
            "  100    Parcial          144 -119404595179383281007198208.0000000000 138469189318110995233636352.0000000000\n"
          ]
        }
      ]
    },
    {
      "cell_type": "markdown",
      "source": [
        "C)\n",
        "\n",
        " Gráfica del Diagrama de Hertzsprung-Russell\n",
        "\n",
        " En esta parte, se busca reproducir la gráfica del diagrama de Hertzsprung-Russell (HR) utilizando un conjunto de datos de estrellas. El diagrama HR es una herramienta fundamental en la astronomía para clasificar las estrellas según su luminosidad y temperatura superficial."
      ],
      "metadata": {
        "id": "acWHV3GvRbpK"
      }
    },
    {
      "cell_type": "code",
      "source": [
        "import numpy as np\n",
        "\n",
        "# Cargar los datos desde stars.dat\n",
        "# Suponemos que el archivo contiene dos columnas: tipo_espectral y magnitud_absoluta\n",
        "data = np.loadtxt('stars.dat', dtype=float, delimiter=',')\n",
        "tipo_espectral = data[:, 0]  # Primera columna para el tipo espectral (temperatura)\n",
        "magnitud_absoluta = data[:, 1]  # Segunda columna para la magnitud absoluta (luminosidad)\n",
        "import pylab as plt\n",
        "\n",
        "# Graficar el Diagrama HR con pylab\n",
        "plt.figure()\n",
        "plt.scatter(tipo_espectral, magnitud_absoluta, c='blue', marker='o')\n",
        "plt.gca().invert_xaxis()  # Invertir el eje x para mostrar temperaturas decrecientes\n",
        "plt.gca().invert_yaxis()  # Invertir el eje y porque las magnitudes más bajas son más brillantes\n",
        "plt.title('Diagrama de Hertzsprung-Russell')\n",
        "plt.xlabel('Tipo Espectral (Temperatura)')\n",
        "plt.ylabel('Magnitud Absoluta (Luminosidad)')\n",
        "plt.show()\n",
        "import matplotlib.pyplot as plt\n",
        "\n",
        "# Graficar el Diagrama HR sin usar pylab\n",
        "plt.figure()\n",
        "plt.scatter(tipo_espectral, magnitud_absoluta, c='blue', marker='o')\n",
        "plt.gca().invert_xaxis()  # Invertir el eje x para mostrar temperaturas decrecientes\n",
        "plt.gca().invert_yaxis()  # Invertir el eje y porque las magnitudes más bajas son más brillantes\n",
        "plt.title('Diagrama de Hertzsprung-Russell')\n",
        "plt.xlabel('Tipo Espectral (Temperatura)')\n",
        "plt.ylabel('Magnitud Absoluta (Luminosidad)')\n",
        "plt.show()\n"
      ],
      "metadata": {
        "id": "ukGa_t9f6ERH",
        "colab": {
          "base_uri": "https://localhost:8080/",
          "height": 356
        },
        "outputId": "5ab20e82-1236-4dfd-ce04-cb645e6f248d"
      },
      "execution_count": null,
      "outputs": [
        {
          "output_type": "error",
          "ename": "FileNotFoundError",
          "evalue": "stars.dat not found.",
          "traceback": [
            "\u001b[0;31m---------------------------------------------------------------------------\u001b[0m",
            "\u001b[0;31mFileNotFoundError\u001b[0m                         Traceback (most recent call last)",
            "\u001b[0;32m<ipython-input-16-ee2e61f68ea2>\u001b[0m in \u001b[0;36m<cell line: 5>\u001b[0;34m()\u001b[0m\n\u001b[1;32m      3\u001b[0m \u001b[0;31m# Cargar los datos desde stars.dat\u001b[0m\u001b[0;34m\u001b[0m\u001b[0;34m\u001b[0m\u001b[0m\n\u001b[1;32m      4\u001b[0m \u001b[0;31m# Suponemos que el archivo contiene dos columnas: tipo_espectral y magnitud_absoluta\u001b[0m\u001b[0;34m\u001b[0m\u001b[0;34m\u001b[0m\u001b[0m\n\u001b[0;32m----> 5\u001b[0;31m \u001b[0mdata\u001b[0m \u001b[0;34m=\u001b[0m \u001b[0mnp\u001b[0m\u001b[0;34m.\u001b[0m\u001b[0mloadtxt\u001b[0m\u001b[0;34m(\u001b[0m\u001b[0;34m'stars.dat'\u001b[0m\u001b[0;34m,\u001b[0m \u001b[0mdtype\u001b[0m\u001b[0;34m=\u001b[0m\u001b[0mfloat\u001b[0m\u001b[0;34m,\u001b[0m \u001b[0mdelimiter\u001b[0m\u001b[0;34m=\u001b[0m\u001b[0;34m','\u001b[0m\u001b[0;34m)\u001b[0m\u001b[0;34m\u001b[0m\u001b[0;34m\u001b[0m\u001b[0m\n\u001b[0m\u001b[1;32m      6\u001b[0m \u001b[0mtipo_espectral\u001b[0m \u001b[0;34m=\u001b[0m \u001b[0mdata\u001b[0m\u001b[0;34m[\u001b[0m\u001b[0;34m:\u001b[0m\u001b[0;34m,\u001b[0m \u001b[0;36m0\u001b[0m\u001b[0;34m]\u001b[0m  \u001b[0;31m# Primera columna para el tipo espectral (temperatura)\u001b[0m\u001b[0;34m\u001b[0m\u001b[0;34m\u001b[0m\u001b[0m\n\u001b[1;32m      7\u001b[0m \u001b[0mmagnitud_absoluta\u001b[0m \u001b[0;34m=\u001b[0m \u001b[0mdata\u001b[0m\u001b[0;34m[\u001b[0m\u001b[0;34m:\u001b[0m\u001b[0;34m,\u001b[0m \u001b[0;36m1\u001b[0m\u001b[0;34m]\u001b[0m  \u001b[0;31m# Segunda columna para la magnitud absoluta (luminosidad)\u001b[0m\u001b[0;34m\u001b[0m\u001b[0;34m\u001b[0m\u001b[0m\n",
            "\u001b[0;32m/usr/local/lib/python3.10/dist-packages/numpy/lib/npyio.py\u001b[0m in \u001b[0;36mloadtxt\u001b[0;34m(fname, dtype, comments, delimiter, converters, skiprows, usecols, unpack, ndmin, encoding, max_rows, quotechar, like)\u001b[0m\n\u001b[1;32m   1371\u001b[0m         \u001b[0mdelimiter\u001b[0m \u001b[0;34m=\u001b[0m \u001b[0mdelimiter\u001b[0m\u001b[0;34m.\u001b[0m\u001b[0mdecode\u001b[0m\u001b[0;34m(\u001b[0m\u001b[0;34m'latin1'\u001b[0m\u001b[0;34m)\u001b[0m\u001b[0;34m\u001b[0m\u001b[0;34m\u001b[0m\u001b[0m\n\u001b[1;32m   1372\u001b[0m \u001b[0;34m\u001b[0m\u001b[0m\n\u001b[0;32m-> 1373\u001b[0;31m     arr = _read(fname, dtype=dtype, comment=comment, delimiter=delimiter,\n\u001b[0m\u001b[1;32m   1374\u001b[0m                 \u001b[0mconverters\u001b[0m\u001b[0;34m=\u001b[0m\u001b[0mconverters\u001b[0m\u001b[0;34m,\u001b[0m \u001b[0mskiplines\u001b[0m\u001b[0;34m=\u001b[0m\u001b[0mskiprows\u001b[0m\u001b[0;34m,\u001b[0m \u001b[0musecols\u001b[0m\u001b[0;34m=\u001b[0m\u001b[0musecols\u001b[0m\u001b[0;34m,\u001b[0m\u001b[0;34m\u001b[0m\u001b[0;34m\u001b[0m\u001b[0m\n\u001b[1;32m   1375\u001b[0m                 \u001b[0munpack\u001b[0m\u001b[0;34m=\u001b[0m\u001b[0munpack\u001b[0m\u001b[0;34m,\u001b[0m \u001b[0mndmin\u001b[0m\u001b[0;34m=\u001b[0m\u001b[0mndmin\u001b[0m\u001b[0;34m,\u001b[0m \u001b[0mencoding\u001b[0m\u001b[0;34m=\u001b[0m\u001b[0mencoding\u001b[0m\u001b[0;34m,\u001b[0m\u001b[0;34m\u001b[0m\u001b[0;34m\u001b[0m\u001b[0m\n",
            "\u001b[0;32m/usr/local/lib/python3.10/dist-packages/numpy/lib/npyio.py\u001b[0m in \u001b[0;36m_read\u001b[0;34m(fname, delimiter, comment, quote, imaginary_unit, usecols, skiplines, max_rows, converters, ndmin, unpack, dtype, encoding)\u001b[0m\n\u001b[1;32m    990\u001b[0m             \u001b[0mfname\u001b[0m \u001b[0;34m=\u001b[0m \u001b[0mos\u001b[0m\u001b[0;34m.\u001b[0m\u001b[0mfspath\u001b[0m\u001b[0;34m(\u001b[0m\u001b[0mfname\u001b[0m\u001b[0;34m)\u001b[0m\u001b[0;34m\u001b[0m\u001b[0;34m\u001b[0m\u001b[0m\n\u001b[1;32m    991\u001b[0m         \u001b[0;32mif\u001b[0m \u001b[0misinstance\u001b[0m\u001b[0;34m(\u001b[0m\u001b[0mfname\u001b[0m\u001b[0;34m,\u001b[0m \u001b[0mstr\u001b[0m\u001b[0;34m)\u001b[0m\u001b[0;34m:\u001b[0m\u001b[0;34m\u001b[0m\u001b[0;34m\u001b[0m\u001b[0m\n\u001b[0;32m--> 992\u001b[0;31m             \u001b[0mfh\u001b[0m \u001b[0;34m=\u001b[0m \u001b[0mnp\u001b[0m\u001b[0;34m.\u001b[0m\u001b[0mlib\u001b[0m\u001b[0;34m.\u001b[0m\u001b[0m_datasource\u001b[0m\u001b[0;34m.\u001b[0m\u001b[0mopen\u001b[0m\u001b[0;34m(\u001b[0m\u001b[0mfname\u001b[0m\u001b[0;34m,\u001b[0m \u001b[0;34m'rt'\u001b[0m\u001b[0;34m,\u001b[0m \u001b[0mencoding\u001b[0m\u001b[0;34m=\u001b[0m\u001b[0mencoding\u001b[0m\u001b[0;34m)\u001b[0m\u001b[0;34m\u001b[0m\u001b[0;34m\u001b[0m\u001b[0m\n\u001b[0m\u001b[1;32m    993\u001b[0m             \u001b[0;32mif\u001b[0m \u001b[0mencoding\u001b[0m \u001b[0;32mis\u001b[0m \u001b[0;32mNone\u001b[0m\u001b[0;34m:\u001b[0m\u001b[0;34m\u001b[0m\u001b[0;34m\u001b[0m\u001b[0m\n\u001b[1;32m    994\u001b[0m                 \u001b[0mencoding\u001b[0m \u001b[0;34m=\u001b[0m \u001b[0mgetattr\u001b[0m\u001b[0;34m(\u001b[0m\u001b[0mfh\u001b[0m\u001b[0;34m,\u001b[0m \u001b[0;34m'encoding'\u001b[0m\u001b[0;34m,\u001b[0m \u001b[0;34m'latin1'\u001b[0m\u001b[0;34m)\u001b[0m\u001b[0;34m\u001b[0m\u001b[0;34m\u001b[0m\u001b[0m\n",
            "\u001b[0;32m/usr/local/lib/python3.10/dist-packages/numpy/lib/_datasource.py\u001b[0m in \u001b[0;36mopen\u001b[0;34m(path, mode, destpath, encoding, newline)\u001b[0m\n\u001b[1;32m    191\u001b[0m \u001b[0;34m\u001b[0m\u001b[0m\n\u001b[1;32m    192\u001b[0m     \u001b[0mds\u001b[0m \u001b[0;34m=\u001b[0m \u001b[0mDataSource\u001b[0m\u001b[0;34m(\u001b[0m\u001b[0mdestpath\u001b[0m\u001b[0;34m)\u001b[0m\u001b[0;34m\u001b[0m\u001b[0;34m\u001b[0m\u001b[0m\n\u001b[0;32m--> 193\u001b[0;31m     \u001b[0;32mreturn\u001b[0m \u001b[0mds\u001b[0m\u001b[0;34m.\u001b[0m\u001b[0mopen\u001b[0m\u001b[0;34m(\u001b[0m\u001b[0mpath\u001b[0m\u001b[0;34m,\u001b[0m \u001b[0mmode\u001b[0m\u001b[0;34m,\u001b[0m \u001b[0mencoding\u001b[0m\u001b[0;34m=\u001b[0m\u001b[0mencoding\u001b[0m\u001b[0;34m,\u001b[0m \u001b[0mnewline\u001b[0m\u001b[0;34m=\u001b[0m\u001b[0mnewline\u001b[0m\u001b[0;34m)\u001b[0m\u001b[0;34m\u001b[0m\u001b[0;34m\u001b[0m\u001b[0m\n\u001b[0m\u001b[1;32m    194\u001b[0m \u001b[0;34m\u001b[0m\u001b[0m\n\u001b[1;32m    195\u001b[0m \u001b[0;34m\u001b[0m\u001b[0m\n",
            "\u001b[0;32m/usr/local/lib/python3.10/dist-packages/numpy/lib/_datasource.py\u001b[0m in \u001b[0;36mopen\u001b[0;34m(self, path, mode, encoding, newline)\u001b[0m\n\u001b[1;32m    531\u001b[0m                                       encoding=encoding, newline=newline)\n\u001b[1;32m    532\u001b[0m         \u001b[0;32melse\u001b[0m\u001b[0;34m:\u001b[0m\u001b[0;34m\u001b[0m\u001b[0;34m\u001b[0m\u001b[0m\n\u001b[0;32m--> 533\u001b[0;31m             \u001b[0;32mraise\u001b[0m \u001b[0mFileNotFoundError\u001b[0m\u001b[0;34m(\u001b[0m\u001b[0;34mf\"{path} not found.\"\u001b[0m\u001b[0;34m)\u001b[0m\u001b[0;34m\u001b[0m\u001b[0;34m\u001b[0m\u001b[0m\n\u001b[0m\u001b[1;32m    534\u001b[0m \u001b[0;34m\u001b[0m\u001b[0m\n\u001b[1;32m    535\u001b[0m \u001b[0;34m\u001b[0m\u001b[0m\n",
            "\u001b[0;31mFileNotFoundError\u001b[0m: stars.dat not found."
          ]
        }
      ]
    },
    {
      "cell_type": "markdown",
      "source": [
        "Parte D: Datos de Alturas de Hombres Mexicanos"
      ],
      "metadata": {
        "id": "_eCh3bHGCUNc"
      }
    },
    {
      "cell_type": "code",
      "source": [
        "import numpy as np\n",
        "\n",
        "# Ejemplo de datos de alturas en cm\n",
        "alturas_A = np.array([165, 170, 172, 160, 175, 178, 180, 182, 169, 173])\n",
        "alturas_B = np.array([160, 162, 164, 166, 168, 170, 172, 174, 176, 178])\n",
        "import matplotlib.pyplot as plt\n",
        "\n",
        "plt.figure()\n",
        "plt.hist(alturas_A, bins=5, alpha=0.5, label='Grupo A', color='blue')\n",
        "plt.hist(alturas_B, bins=5, alpha=0.5, label='Grupo B', color='green')\n",
        "plt.xlabel('Altura (cm)')\n",
        "plt.ylabel('Frecuencia')\n",
        "plt.title('Distribución de Alturas de Hombres Mexicanos')\n",
        "plt.legend()\n",
        "plt.show()\n",
        "plt.figure()\n",
        "plt.boxplot([alturas_A, alturas_B], labels=['Grupo A', 'Grupo B'])\n",
        "plt.ylabel('Altura (cm)')\n",
        "plt.title('Comparación de Alturas entre Grupos A y B')\n",
        "plt.show()\n"
      ],
      "metadata": {
        "colab": {
          "base_uri": "https://localhost:8080/",
          "height": 908
        },
        "id": "NpelVoWsFn8d",
        "outputId": "29add54e-37b0-461b-eb08-bfd0aef92713"
      },
      "execution_count": null,
      "outputs": [
        {
          "output_type": "display_data",
          "data": {
            "text/plain": [
              "<Figure size 640x480 with 1 Axes>"
            ],
            "image/png": "[encoded data removed]"
          },
          "metadata": {}
        },
        {
          "output_type": "display_data",
          "data": {
            "text/plain": [
              "<Figure size 640x480 with 1 Axes>"
            ],
            "image/png": "[encoded data removed]"
          },
          "metadata": {}
        }
      ]
    }
  ]
}