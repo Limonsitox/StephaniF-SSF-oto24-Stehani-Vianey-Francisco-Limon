{
  "nbformat": 4,
  "nbformat_minor": 0,
  "metadata": {
    "colab": {
      "provenance": [],
      "authorship_tag": "ABX9TyOjrQxX9iRg+Su3nvq/6YRV",
      "include_colab_link": true
    },
    "kernelspec": {
      "name": "python3",
      "display_name": "Python 3"
    },
    "language_info": {
      "name": "python"
    }
  },
  "cells": [
    {
      "cell_type": "markdown",
      "metadata": {
        "id": "view-in-github",
        "colab_type": "text"
      },
      "source": [
        "<a href=\"https://colab.research.google.com/github/Limonsitox/StephaniF-SSF-oto24-Stehani-Vianey-Francisco-Limon/blob/main/TAREA8SSF_Oto24Stephanivianeyfranciscolimon.ipynb\" target=\"_parent\"><img src=\"https://colab.research.google.com/assets/colab-badge.svg\" alt=\"Open In Colab\"/></a>"
      ]
    },
    {
      "cell_type": "markdown",
      "source": [],
      "metadata": {
        "id": "x-qM-YbfsoAq"
      }
    },
    {
      "cell_type": "code",
      "source": [
        "# Importación de bibliotecas necesarias\n",
        "import numpy as np\n",
        "from scipy.special import comb\n",
        "\n",
        "# Parte A: Probabilidad de que al elegir 3 alumnos, todos sean mujeres\n",
        "N = 40  # Total de alumnos\n",
        "M = 9   # Número de mujeres\n",
        "k = 3   # Selección de 3 estudiantes\n",
        "\n",
        "# Cálculo de combinaciones\n",
        "combinaciones_mujeres = comb(M, k)\n",
        "combinaciones_total = comb(N, k)\n",
        "\n",
        "# Probabilidad de seleccionar 3 mujeres\n",
        "probabilidad_3_mujeres = combinaciones_mujeres / combinaciones_total\n",
        "print(f\"Parte A: La probabilidad de que los 3 alumnos seleccionados sean mujeres es {probabilidad_3_mujeres:.4f}\")\n",
        "\n",
        "# Parte B: Generación de calificaciones aleatorias y cálculo de promedio y varianza\n",
        "# Configuración de parámetros\n",
        "num_estudiantes = 100\n",
        "num_cursos = 10\n",
        "calificaciones_min = 5\n",
        "calificaciones_max = 10\n",
        "\n",
        "# Inicialización de listas para almacenar resultados de cada curso\n",
        "promedios_cursos = []\n",
        "varianzas_cursos = []\n",
        "\n",
        "# Simulación de calificaciones para cada curso\n",
        "for _ in range(num_cursos):\n",
        "    # Generar calificaciones aleatorias entre 5 y 10 para un curso\n",
        "    calificaciones = np.random.uniform(calificaciones_min, calificaciones_max, num_estudiantes)\n",
        "\n",
        "    # Calcular promedio y varianza de calificaciones\n",
        "    promedio = np.mean(calificaciones)\n",
        "    varianza = np.var(calificaciones)\n",
        "\n",
        "    # Almacenar resultados\n",
        "    promedios_cursos.append(promedio)\n",
        "    varianzas_cursos.append(varianza)\n",
        "\n",
        "# Mostrar resultados de la Parte B\n",
        "print(\"\\nParte B: Resultados para cada curso\")\n",
        "for i, (promedio, varianza) in enumerate(zip(promedios_cursos, varianzas_cursos), 1):\n",
        "    print(f\"Curso {i}: Promedio = {promedio:.2f}, Varianza = {varianza:.2f}\")\n",
        "\n",
        "# Parte C: Calcular promedio y desviación estándar de los promedios obtenidos en los 10 cursos\n",
        "promedio_de_promedios = np.mean(promedios_cursos)\n",
        "desviacion_estandar_promedios = np.std(promedios_cursos)\n",
        "\n",
        "# Mostrar resultados de la Parte C\n",
        "print(f\"\\nParte C: Promedio de los promedios de los cursos = {promedio_de_promedios:.2f}\")\n",
        "print(f\"Desviación estándar de los promedios de los cursos = {desviacion_estandar_promedios:.2f}\")\n"
      ],
      "metadata": {
        "colab": {
          "base_uri": "https://localhost:8080/"
        },
        "id": "IbOJMtsrsoQB",
        "outputId": "3e9bcfa6-bb61-4f8c-9dee-459e0adf4f01"
      },
      "execution_count": null,
      "outputs": [
        {
          "output_type": "stream",
          "name": "stdout",
          "text": [
            "Parte A: La probabilidad de que los 3 alumnos seleccionados sean mujeres es 0.0085\n",
            "\n",
            "Parte B: Resultados para cada curso\n",
            "Curso 1: Promedio = 7.68, Varianza = 2.23\n",
            "Curso 2: Promedio = 7.40, Varianza = 1.98\n",
            "Curso 3: Promedio = 7.54, Varianza = 2.10\n",
            "Curso 4: Promedio = 7.52, Varianza = 2.23\n",
            "Curso 5: Promedio = 7.64, Varianza = 1.96\n",
            "Curso 6: Promedio = 7.36, Varianza = 2.35\n",
            "Curso 7: Promedio = 7.67, Varianza = 2.05\n",
            "Curso 8: Promedio = 7.31, Varianza = 2.51\n",
            "Curso 9: Promedio = 7.59, Varianza = 1.87\n",
            "Curso 10: Promedio = 7.64, Varianza = 2.18\n",
            "\n",
            "Parte C: Promedio de los promedios de los cursos = 7.53\n",
            "Desviación estándar de los promedios de los cursos = 0.13\n"
          ]
        }
      ]
    }
  ]
}